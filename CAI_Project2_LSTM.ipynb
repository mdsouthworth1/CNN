{
 "cells": [
  {
   "cell_type": "code",
   "execution_count": 66,
   "id": "cbe3ebf5-2ad4-4cb2-832c-6aa2c66106cb",
   "metadata": {},
   "outputs": [],
   "source": [
    "import os \n",
    "import tensorflow as tf\n",
    "import pandas as pd\n",
    "import numpy as np\n",
    "import tensorflow.keras as keras\n",
    "from sklearn.preprocessing import StandardScaler, RobustScaler\n",
    "from tensorflow.keras.callbacks import ReduceLROnPlateau\n",
    "from tensorflow.keras import layers, regularizers\n",
    "from tensorflow.keras.optimizers import SGD, Adam\n",
    "from tensorflow.keras.regularizers import l2\n",
    "from sklearn.model_selection import train_test_split\n",
    "from tensorflow.keras.models import Sequential\n",
    "from tensorflow.keras.layers import Dense, LSTM, GRU, BatchNormalization\n",
    "from tensorflow.keras.utils import to_categorical\n",
    "from sklearn.utils.class_weight import compute_class_weight\n",
    "from tensorflow.keras import layers, models\n",
    "from sklearn.metrics import precision_score, recall_score, f1_score, confusion_matrix, roc_auc_score, accuracy_score, \\\n",
    "    precision_recall_curve, average_precision_score, balanced_accuracy_score, matthews_corrcoef, roc_curve, auc\n",
    "from sklearn.utils import shuffle\n",
    "import matplotlib.pyplot as plt\n",
    "from sklearn import metrics"
   ]
  },
  {
   "cell_type": "code",
   "execution_count": 2,
   "id": "301031d2-baa1-4c4b-8b16-03f2d5ba0657",
   "metadata": {},
   "outputs": [
    {
     "data": {
      "text/plain": [
       "'C:\\\\Users\\\\mdsou'"
      ]
     },
     "execution_count": 2,
     "metadata": {},
     "output_type": "execute_result"
    }
   ],
   "source": [
    "os.getcwd()"
   ]
  },
  {
   "cell_type": "code",
   "execution_count": 3,
   "id": "6673ad17-0f01-4e6d-bd5f-d372c5601932",
   "metadata": {},
   "outputs": [],
   "source": [
    "os.chdir('Downloads')"
   ]
  },
  {
   "cell_type": "code",
   "execution_count": 4,
   "id": "8a194b24-3480-43de-bf85-220a30cefa9e",
   "metadata": {
    "scrolled": true
   },
   "outputs": [
    {
     "data": {
      "text/plain": [
       "['CAI_GRU_Test.ipynb',\n",
       " 'CAI_Project2_GRU.ipynb',\n",
       " 'desktop.ini',\n",
       " 'Matthew_Southworth_CV2024.docx',\n",
       " 'model_GRU.keras',\n",
       " 'Project 2.pdf',\n",
       " 'training-validation',\n",
       " '~$M A3 Credit Card Transactions Solutions.docx',\n",
       " '~$nalProject.docx',\n",
       " '~WRL2591.tmp']"
      ]
     },
     "execution_count": 4,
     "metadata": {},
     "output_type": "execute_result"
    }
   ],
   "source": [
    "os.listdir()"
   ]
  },
  {
   "cell_type": "markdown",
   "id": "6f571b58-9033-4cb9-984a-d294a8822427",
   "metadata": {},
   "source": [
    "# Data Extraction and Preprocessing"
   ]
  },
  {
   "cell_type": "code",
   "execution_count": 5,
   "id": "edfe8871-20f1-42cf-8dbb-fcca938ffb52",
   "metadata": {},
   "outputs": [],
   "source": [
    "directory = \"training-validation\" "
   ]
  },
  {
   "cell_type": "code",
   "execution_count": 6,
   "id": "68fc4d3a-fe58-4789-a141-97282b6e41de",
   "metadata": {},
   "outputs": [
    {
     "data": {
      "text/plain": [
       "['sub01', 'sub02', 'sub03', 'sub05']"
      ]
     },
     "execution_count": 6,
     "metadata": {},
     "output_type": "execute_result"
    }
   ],
   "source": [
    "sub_folders = os.listdir(directory)\n",
    "sub_folders"
   ]
  },
  {
   "cell_type": "code",
   "execution_count": 7,
   "id": "51e7134f-2098-428a-b19e-6aeee14d6d4d",
   "metadata": {},
   "outputs": [],
   "source": [
    "path = os.path.join(directory, sub_folders[0])"
   ]
  },
  {
   "cell_type": "code",
   "execution_count": 8,
   "id": "19521ad6-a93f-4d7a-b822-dad67f7ca585",
   "metadata": {},
   "outputs": [],
   "source": [
    "r = []\n",
    "for root, dirs, files in os.walk(directory):\n",
    "    for name in files:\n",
    "        filepath = root + os.sep + name\n",
    "        if filepath.endswith(\".csv\"):\n",
    "            r.append(os.path.join(root, name))\n",
    "    "
   ]
  },
  {
   "cell_type": "code",
   "execution_count": 9,
   "id": "c696910a-b2f0-4fc8-a6fd-f1bd61668cf2",
   "metadata": {},
   "outputs": [],
   "source": [
    "files = []\n",
    "for file in r:\n",
    "    #for dir, dir_name, file_list in os.walk(path):\n",
    "    files.append(os.path.join(path, file))"
   ]
  },
  {
   "cell_type": "code",
   "execution_count": 10,
   "id": "167c2af4-a57a-425c-a40e-fc37869269fb",
   "metadata": {},
   "outputs": [],
   "source": [
    "df = []\n",
    "df = pd.read_csv(r[0], header=None)\n",
    "for file in r[1:]:\n",
    "    temp = pd.read_csv(file, header=None)\n",
    "    df = pd.concat([df, temp])"
   ]
  },
  {
   "cell_type": "code",
   "execution_count": 11,
   "id": "3d33f911-5936-4d8a-8ba7-896f3d8b9455",
   "metadata": {},
   "outputs": [
    {
     "data": {
      "text/html": [
       "<div>\n",
       "<style scoped>\n",
       "    .dataframe tbody tr th:only-of-type {\n",
       "        vertical-align: middle;\n",
       "    }\n",
       "\n",
       "    .dataframe tbody tr th {\n",
       "        vertical-align: top;\n",
       "    }\n",
       "\n",
       "    .dataframe thead th {\n",
       "        text-align: right;\n",
       "    }\n",
       "</style>\n",
       "<table border=\"1\" class=\"dataframe\">\n",
       "  <thead>\n",
       "    <tr style=\"text-align: right;\">\n",
       "      <th></th>\n",
       "      <th>0</th>\n",
       "      <th>1</th>\n",
       "      <th>2</th>\n",
       "      <th>3</th>\n",
       "      <th>4</th>\n",
       "    </tr>\n",
       "  </thead>\n",
       "  <tbody>\n",
       "    <tr>\n",
       "      <th>0</th>\n",
       "      <td>0</td>\n",
       "      <td>142</td>\n",
       "      <td>60</td>\n",
       "      <td>100</td>\n",
       "      <td>0</td>\n",
       "    </tr>\n",
       "    <tr>\n",
       "      <th>1</th>\n",
       "      <td>1</td>\n",
       "      <td>142</td>\n",
       "      <td>60</td>\n",
       "      <td>100</td>\n",
       "      <td>0</td>\n",
       "    </tr>\n",
       "    <tr>\n",
       "      <th>2</th>\n",
       "      <td>2</td>\n",
       "      <td>142</td>\n",
       "      <td>60</td>\n",
       "      <td>100</td>\n",
       "      <td>0</td>\n",
       "    </tr>\n",
       "    <tr>\n",
       "      <th>3</th>\n",
       "      <td>3</td>\n",
       "      <td>142</td>\n",
       "      <td>59</td>\n",
       "      <td>100</td>\n",
       "      <td>0</td>\n",
       "    </tr>\n",
       "    <tr>\n",
       "      <th>4</th>\n",
       "      <td>4</td>\n",
       "      <td>143</td>\n",
       "      <td>59</td>\n",
       "      <td>100</td>\n",
       "      <td>0</td>\n",
       "    </tr>\n",
       "  </tbody>\n",
       "</table>\n",
       "</div>"
      ],
      "text/plain": [
       "   0    1   2    3  4\n",
       "0  0  142  60  100  0\n",
       "1  1  142  60  100  0\n",
       "2  2  142  60  100  0\n",
       "3  3  142  59  100  0\n",
       "4  4  143  59  100  0"
      ]
     },
     "execution_count": 11,
     "metadata": {},
     "output_type": "execute_result"
    }
   ],
   "source": [
    "df.head()"
   ]
  },
  {
   "cell_type": "code",
   "execution_count": 13,
   "id": "537870b0-8e1e-4388-bb98-c506646623e5",
   "metadata": {},
   "outputs": [],
   "source": [
    "df.drop(df.columns[0], axis=1, inplace=True)"
   ]
  },
  {
   "cell_type": "code",
   "execution_count": 14,
   "id": "c202f722-dded-44cf-ad6a-9f9fa7a4bfe2",
   "metadata": {},
   "outputs": [
    {
     "data": {
      "text/plain": [
       "1    0\n",
       "2    0\n",
       "3    0\n",
       "4    0\n",
       "dtype: int64"
      ]
     },
     "execution_count": 14,
     "metadata": {},
     "output_type": "execute_result"
    }
   ],
   "source": [
    "df.isna().sum()"
   ]
  },
  {
   "cell_type": "code",
   "execution_count": 15,
   "id": "4df2ce56-cab6-4a1a-9e10-708a380c6029",
   "metadata": {},
   "outputs": [
    {
     "data": {
      "text/plain": [
       "count    18662.000000\n",
       "mean       157.737917\n",
       "std         51.928414\n",
       "min         -1.000000\n",
       "25%        149.000000\n",
       "50%        160.000000\n",
       "75%        170.000000\n",
       "max       4164.000000\n",
       "Name: 1, dtype: float64"
      ]
     },
     "execution_count": 15,
     "metadata": {},
     "output_type": "execute_result"
    }
   ],
   "source": [
    "df[1].describe()"
   ]
  },
  {
   "cell_type": "code",
   "execution_count": 16,
   "id": "015263b4-9219-4256-9f28-a927ec032bd8",
   "metadata": {},
   "outputs": [
    {
     "data": {
      "text/plain": [
       "count    18662.000000\n",
       "mean        43.206141\n",
       "std         16.794824\n",
       "min         -1.000000\n",
       "25%         34.000000\n",
       "50%         45.000000\n",
       "75%         55.000000\n",
       "max        105.000000\n",
       "Name: 2, dtype: float64"
      ]
     },
     "execution_count": 16,
     "metadata": {},
     "output_type": "execute_result"
    }
   ],
   "source": [
    "df[2].describe()"
   ]
  },
  {
   "cell_type": "code",
   "execution_count": 17,
   "id": "f747a606-508b-43b6-8d6c-9932b217903c",
   "metadata": {},
   "outputs": [
    {
     "data": {
      "text/plain": [
       "count     18662\n",
       "unique       51\n",
       "top         100\n",
       "freq       4279\n",
       "Name: 3, dtype: int64"
      ]
     },
     "execution_count": 17,
     "metadata": {},
     "output_type": "execute_result"
    }
   ],
   "source": [
    "df[3].describe()"
   ]
  },
  {
   "cell_type": "code",
   "execution_count": 18,
   "id": "c6763b3a-f0c2-4cd0-afd2-d6e2d7144289",
   "metadata": {},
   "outputs": [
    {
     "data": {
      "text/plain": [
       "4\n",
       "0    9827\n",
       "1    6541\n",
       "#    1178\n",
       "2    1116\n",
       "Name: count, dtype: int64"
      ]
     },
     "execution_count": 18,
     "metadata": {},
     "output_type": "execute_result"
    }
   ],
   "source": [
    "df[4].value_counts()"
   ]
  },
  {
   "cell_type": "markdown",
   "id": "09c37646-c1ba-4248-8a9b-d5e699d41280",
   "metadata": {},
   "source": [
    "# Dropping invalid values"
   ]
  },
  {
   "cell_type": "code",
   "execution_count": 19,
   "id": "1baeedbe-782a-4e5c-90e1-c4d83e81a5f8",
   "metadata": {},
   "outputs": [],
   "source": [
    "df = df[df[1] != '-1']"
   ]
  },
  {
   "cell_type": "code",
   "execution_count": 20,
   "id": "0611aba9-63b8-4044-af81-c70a660b3860",
   "metadata": {},
   "outputs": [],
   "source": [
    "df = df[df[1] != -1]"
   ]
  },
  {
   "cell_type": "code",
   "execution_count": 21,
   "id": "1a814366-ca7f-44f5-924b-af4ca2f5348e",
   "metadata": {},
   "outputs": [],
   "source": [
    "df = df[df[2] != -1]"
   ]
  },
  {
   "cell_type": "code",
   "execution_count": 22,
   "id": "f3816489-f62d-4589-a230-347813048d14",
   "metadata": {},
   "outputs": [],
   "source": [
    "df = df[df[1] != '--1']"
   ]
  },
  {
   "cell_type": "code",
   "execution_count": 23,
   "id": "868ed131-0381-46b2-b9ff-6b2a9836d245",
   "metadata": {},
   "outputs": [],
   "source": [
    "df = df[df[4] != '#']"
   ]
  },
  {
   "cell_type": "code",
   "execution_count": 24,
   "id": "e127fab3-f050-4cba-970c-926c5f8d690d",
   "metadata": {},
   "outputs": [],
   "source": [
    "df = df[df[3] != '--1']"
   ]
  },
  {
   "cell_type": "code",
   "execution_count": 25,
   "id": "9d2273f1-53e8-45e0-b93c-58cbe0426810",
   "metadata": {},
   "outputs": [],
   "source": [
    "df = df.reset_index(drop=True)"
   ]
  },
  {
   "cell_type": "code",
   "execution_count": 26,
   "id": "8dae8810-d38d-4022-bcd5-49b31329e10f",
   "metadata": {},
   "outputs": [],
   "source": [
    "x = df.drop([4], axis = 1)\n",
    "y = df[4]"
   ]
  },
  {
   "cell_type": "code",
   "execution_count": 27,
   "id": "a6e03508-e58f-43eb-9f54-9495a3a40a7e",
   "metadata": {},
   "outputs": [
    {
     "data": {
      "text/plain": [
       "array([0, 1, 2], dtype=object)"
      ]
     },
     "execution_count": 27,
     "metadata": {},
     "output_type": "execute_result"
    }
   ],
   "source": [
    "y.unique()"
   ]
  },
  {
   "cell_type": "code",
   "execution_count": 28,
   "id": "afc1bc02-24f1-459f-91f5-b735fcddb4d4",
   "metadata": {},
   "outputs": [],
   "source": [
    "y = y.astype(np.int32)"
   ]
  },
  {
   "cell_type": "code",
   "execution_count": 29,
   "id": "0be7ea96-2e45-4691-bf27-b7228bf8c86a",
   "metadata": {},
   "outputs": [],
   "source": [
    "#y_onehot = to_categorical(y, 3)"
   ]
  },
  {
   "cell_type": "code",
   "execution_count": 29,
   "id": "dfd45e0e-6298-41f8-83bc-483b6f716b37",
   "metadata": {},
   "outputs": [
    {
     "data": {
      "text/plain": [
       "dtype('O')"
      ]
     },
     "execution_count": 29,
     "metadata": {},
     "output_type": "execute_result"
    }
   ],
   "source": [
    "x[3].dtype"
   ]
  },
  {
   "cell_type": "code",
   "execution_count": 30,
   "id": "1f2f42f2-6d31-46b3-8843-e3db3e65a515",
   "metadata": {},
   "outputs": [],
   "source": [
    "x[3] = x[3].astype(int)"
   ]
  },
  {
   "cell_type": "code",
   "execution_count": 31,
   "id": "1ca7ebc2-636e-47fd-81f3-45603dea059b",
   "metadata": {},
   "outputs": [],
   "source": [
    "timestep = 30"
   ]
  },
  {
   "cell_type": "markdown",
   "id": "75690c09-5a9b-443f-a3b9-9cec06cc7c4d",
   "metadata": {},
   "source": [
    "# Create timesteps"
   ]
  },
  {
   "cell_type": "code",
   "execution_count": 32,
   "id": "fce3a6a8-1ef6-49bf-ab1f-e4ad8e4b03ea",
   "metadata": {},
   "outputs": [],
   "source": [
    "def create_timestep(x, y, timestep=timestep):\n",
    "    x_step = []\n",
    "    y_step = []\n",
    "    for i in range(len(x) - timestep):\n",
    "        x_step.append(x[i:i+timestep])\n",
    "        y_step.append(y[i+timestep])\n",
    "    return np.array(x_step), np.array(y_step)"
   ]
  },
  {
   "cell_type": "code",
   "execution_count": 33,
   "id": "559eaf8d-2836-4422-b5e1-a94a56e15b31",
   "metadata": {
    "scrolled": true
   },
   "outputs": [],
   "source": [
    "x_step, y_step = create_timestep(x, y)"
   ]
  },
  {
   "cell_type": "code",
   "execution_count": 34,
   "id": "793dee8c-6246-43b0-92ea-31d3837a76d4",
   "metadata": {},
   "outputs": [],
   "source": [
    "#For actual sequence data do not shuffle - recombine after scaling\n",
    "x_train, x_test, y_train, y_test = train_test_split(x_step, y_step,\n",
    "                                                    stratify=y_step,\n",
    "                                                    test_size=0.1, \n",
    "                                                    random_state=42, shuffle=True)"
   ]
  },
  {
   "cell_type": "code",
   "execution_count": 35,
   "id": "7f3a446a-a845-40fa-b0b2-2d67a22f6dd0",
   "metadata": {},
   "outputs": [
    {
     "name": "stdout",
     "output_type": "stream",
     "text": [
      "30\n",
      "3\n"
     ]
    }
   ],
   "source": [
    "print(x_train.shape[1])\n",
    "print(x_train.shape[2])"
   ]
  },
  {
   "cell_type": "code",
   "execution_count": 36,
   "id": "6bca1139-9a41-4ed8-aedd-166eca15d02c",
   "metadata": {},
   "outputs": [],
   "source": [
    "#Reshape for scaling\n",
    "num_steps, num_features = x_train.shape[1], x_train.shape[2]\n",
    "x_train_flat = x_train.reshape(-1, num_features)\n",
    "x_test_flat = x_test.reshape(-1, num_features)"
   ]
  },
  {
   "cell_type": "code",
   "execution_count": 37,
   "id": "7b91e64a-c165-4be1-99f5-5f020af34734",
   "metadata": {},
   "outputs": [
    {
     "data": {
      "text/plain": [
       "array([[197,  42,  -1],\n",
       "       [197,  42,  -1],\n",
       "       [197,  42,  -1],\n",
       "       ...,\n",
       "       [196,  12,  -1],\n",
       "       [197,  12,  -1],\n",
       "       [197,  39,  -1]], dtype=int64)"
      ]
     },
     "execution_count": 37,
     "metadata": {},
     "output_type": "execute_result"
    }
   ],
   "source": [
    "x_train_flat"
   ]
  },
  {
   "cell_type": "markdown",
   "id": "e840bab5-5857-4959-9157-db06f29e3a54",
   "metadata": {},
   "source": [
    "# Use Robust Scalar"
   ]
  },
  {
   "cell_type": "code",
   "execution_count": 38,
   "id": "bbafdfd2-e3fa-42ce-a9e8-868384f78757",
   "metadata": {},
   "outputs": [],
   "source": [
    "scaler = RobustScaler()"
   ]
  },
  {
   "cell_type": "code",
   "execution_count": 39,
   "id": "3354280a-8689-4853-bf5a-5cea761cb0c1",
   "metadata": {},
   "outputs": [],
   "source": [
    "x_train_scaled = scaler.fit_transform(x_train_flat)\n",
    "x_test_scaled = scaler.transform(x_test_flat)"
   ]
  },
  {
   "cell_type": "code",
   "execution_count": 42,
   "id": "9f90a6cc-f23c-4eb8-939c-976a4021eef2",
   "metadata": {},
   "outputs": [
    {
     "data": {
      "text/plain": [
       "(15019, 30, 3)"
      ]
     },
     "execution_count": 42,
     "metadata": {},
     "output_type": "execute_result"
    }
   ],
   "source": [
    "x_train_scaled = x_train_scaled.reshape(-1, num_steps, num_features)\n",
    "x_test_scaled = x_test_scaled.reshape(-1, num_steps, num_features)\n",
    "x_train_scaled.shape"
   ]
  },
  {
   "cell_type": "code",
   "execution_count": 43,
   "id": "0a957e8e-a160-4a3e-89b8-ff31254fc4f6",
   "metadata": {},
   "outputs": [
    {
     "data": {
      "text/plain": [
       "(15019,)"
      ]
     },
     "execution_count": 43,
     "metadata": {},
     "output_type": "execute_result"
    }
   ],
   "source": [
    "y_train.shape"
   ]
  },
  {
   "cell_type": "code",
   "execution_count": 45,
   "id": "29bcda4d-f69c-4756-b160-e7e788d6acd1",
   "metadata": {},
   "outputs": [
    {
     "name": "stdout",
     "output_type": "stream",
     "text": [
      "15019 float64\n",
      "15019 int32\n",
      "1669 float64\n",
      "1669 int32\n"
     ]
    }
   ],
   "source": [
    "print(len(x_train_scaled), x_train_scaled.dtype)\n",
    "print(len(y_train), y_train.dtype)\n",
    "print(len(x_test_scaled), x_test_scaled.dtype)\n",
    "print(len(y_test), y_test.dtype)\n",
    "#Verify same length"
   ]
  },
  {
   "cell_type": "markdown",
   "id": "019fdb36-8837-4eaf-bb41-dd9b63d4236f",
   "metadata": {},
   "source": [
    "# Use class weight for balancing classes"
   ]
  },
  {
   "cell_type": "code",
   "execution_count": 46,
   "id": "3a417ce5-5bf8-4f0e-940d-408069c591b2",
   "metadata": {},
   "outputs": [],
   "source": [
    "#Cant use one hot encoding with class weights - Use sparse categorical and add to model\n",
    "class_weights = compute_class_weight('balanced', classes=np.unique(y), y=y)\n",
    "class_weight_dict = dict(enumerate(class_weights))"
   ]
  },
  {
   "cell_type": "code",
   "execution_count": 47,
   "id": "2e3aafed-554b-4878-bc90-df837beb45d7",
   "metadata": {},
   "outputs": [
    {
     "data": {
      "text/plain": [
       "{0: 0.5895753985047256, 1: 0.9014342715410331, 2: 5.140836408364084}"
      ]
     },
     "execution_count": 47,
     "metadata": {},
     "output_type": "execute_result"
    }
   ],
   "source": [
    "class_weight_dict"
   ]
  },
  {
   "cell_type": "markdown",
   "id": "74217980-3d52-4948-b293-b635235028d4",
   "metadata": {},
   "source": [
    "# Model"
   ]
  },
  {
   "cell_type": "code",
   "execution_count": 48,
   "id": "b0effba3-d68c-470e-b896-621887f7d031",
   "metadata": {
    "scrolled": true
   },
   "outputs": [
    {
     "name": "stderr",
     "output_type": "stream",
     "text": [
      "C:\\Users\\mdsou\\anaconda3\\Lib\\site-packages\\keras\\src\\layers\\rnn\\rnn.py:204: UserWarning: Do not pass an `input_shape`/`input_dim` argument to a layer. When using Sequential models, prefer using an `Input(shape)` object as the first layer in the model instead.\n",
      "  super().__init__(**kwargs)\n"
     ]
    },
    {
     "data": {
      "text/html": [
       "<pre style=\"white-space:pre;overflow-x:auto;line-height:normal;font-family:Menlo,'DejaVu Sans Mono',consolas,'Courier New',monospace\"><span style=\"font-weight: bold\">Model: \"sequential\"</span>\n",
       "</pre>\n"
      ],
      "text/plain": [
       "\u001b[1mModel: \"sequential\"\u001b[0m\n"
      ]
     },
     "metadata": {},
     "output_type": "display_data"
    },
    {
     "data": {
      "text/html": [
       "<pre style=\"white-space:pre;overflow-x:auto;line-height:normal;font-family:Menlo,'DejaVu Sans Mono',consolas,'Courier New',monospace\">┏━━━━━━━━━━━━━━━━━━━━━━━━━━━━━━━━━━━━━━┳━━━━━━━━━━━━━━━━━━━━━━━━━━━━━┳━━━━━━━━━━━━━━━━━┓\n",
       "┃<span style=\"font-weight: bold\"> Layer (type)                         </span>┃<span style=\"font-weight: bold\"> Output Shape                </span>┃<span style=\"font-weight: bold\">         Param # </span>┃\n",
       "┡━━━━━━━━━━━━━━━━━━━━━━━━━━━━━━━━━━━━━━╇━━━━━━━━━━━━━━━━━━━━━━━━━━━━━╇━━━━━━━━━━━━━━━━━┩\n",
       "│ lstm (<span style=\"color: #0087ff; text-decoration-color: #0087ff\">LSTM</span>)                          │ (<span style=\"color: #00d7ff; text-decoration-color: #00d7ff\">None</span>, <span style=\"color: #00af00; text-decoration-color: #00af00\">20</span>, <span style=\"color: #00af00; text-decoration-color: #00af00\">16</span>)              │           <span style=\"color: #00af00; text-decoration-color: #00af00\">1,280</span> │\n",
       "├──────────────────────────────────────┼─────────────────────────────┼─────────────────┤\n",
       "│ lstm_1 (<span style=\"color: #0087ff; text-decoration-color: #0087ff\">LSTM</span>)                        │ (<span style=\"color: #00d7ff; text-decoration-color: #00d7ff\">None</span>, <span style=\"color: #00af00; text-decoration-color: #00af00\">20</span>, <span style=\"color: #00af00; text-decoration-color: #00af00\">32</span>)              │           <span style=\"color: #00af00; text-decoration-color: #00af00\">6,272</span> │\n",
       "├──────────────────────────────────────┼─────────────────────────────┼─────────────────┤\n",
       "│ batch_normalization                  │ (<span style=\"color: #00d7ff; text-decoration-color: #00d7ff\">None</span>, <span style=\"color: #00af00; text-decoration-color: #00af00\">20</span>, <span style=\"color: #00af00; text-decoration-color: #00af00\">32</span>)              │             <span style=\"color: #00af00; text-decoration-color: #00af00\">128</span> │\n",
       "│ (<span style=\"color: #0087ff; text-decoration-color: #0087ff\">BatchNormalization</span>)                 │                             │                 │\n",
       "├──────────────────────────────────────┼─────────────────────────────┼─────────────────┤\n",
       "│ activation (<span style=\"color: #0087ff; text-decoration-color: #0087ff\">Activation</span>)              │ (<span style=\"color: #00d7ff; text-decoration-color: #00d7ff\">None</span>, <span style=\"color: #00af00; text-decoration-color: #00af00\">20</span>, <span style=\"color: #00af00; text-decoration-color: #00af00\">32</span>)              │               <span style=\"color: #00af00; text-decoration-color: #00af00\">0</span> │\n",
       "├──────────────────────────────────────┼─────────────────────────────┼─────────────────┤\n",
       "│ lstm_2 (<span style=\"color: #0087ff; text-decoration-color: #0087ff\">LSTM</span>)                        │ (<span style=\"color: #00d7ff; text-decoration-color: #00d7ff\">None</span>, <span style=\"color: #00af00; text-decoration-color: #00af00\">20</span>, <span style=\"color: #00af00; text-decoration-color: #00af00\">64</span>)              │          <span style=\"color: #00af00; text-decoration-color: #00af00\">24,832</span> │\n",
       "├──────────────────────────────────────┼─────────────────────────────┼─────────────────┤\n",
       "│ batch_normalization_1                │ (<span style=\"color: #00d7ff; text-decoration-color: #00d7ff\">None</span>, <span style=\"color: #00af00; text-decoration-color: #00af00\">20</span>, <span style=\"color: #00af00; text-decoration-color: #00af00\">64</span>)              │             <span style=\"color: #00af00; text-decoration-color: #00af00\">256</span> │\n",
       "│ (<span style=\"color: #0087ff; text-decoration-color: #0087ff\">BatchNormalization</span>)                 │                             │                 │\n",
       "├──────────────────────────────────────┼─────────────────────────────┼─────────────────┤\n",
       "│ activation_1 (<span style=\"color: #0087ff; text-decoration-color: #0087ff\">Activation</span>)            │ (<span style=\"color: #00d7ff; text-decoration-color: #00d7ff\">None</span>, <span style=\"color: #00af00; text-decoration-color: #00af00\">20</span>, <span style=\"color: #00af00; text-decoration-color: #00af00\">64</span>)              │               <span style=\"color: #00af00; text-decoration-color: #00af00\">0</span> │\n",
       "├──────────────────────────────────────┼─────────────────────────────┼─────────────────┤\n",
       "│ lstm_3 (<span style=\"color: #0087ff; text-decoration-color: #0087ff\">LSTM</span>)                        │ (<span style=\"color: #00d7ff; text-decoration-color: #00d7ff\">None</span>, <span style=\"color: #00af00; text-decoration-color: #00af00\">20</span>, <span style=\"color: #00af00; text-decoration-color: #00af00\">30</span>)              │          <span style=\"color: #00af00; text-decoration-color: #00af00\">11,400</span> │\n",
       "├──────────────────────────────────────┼─────────────────────────────┼─────────────────┤\n",
       "│ lstm_4 (<span style=\"color: #0087ff; text-decoration-color: #0087ff\">LSTM</span>)                        │ (<span style=\"color: #00d7ff; text-decoration-color: #00d7ff\">None</span>, <span style=\"color: #00af00; text-decoration-color: #00af00\">30</span>)                  │           <span style=\"color: #00af00; text-decoration-color: #00af00\">7,320</span> │\n",
       "├──────────────────────────────────────┼─────────────────────────────┼─────────────────┤\n",
       "│ batch_normalization_2                │ (<span style=\"color: #00d7ff; text-decoration-color: #00d7ff\">None</span>, <span style=\"color: #00af00; text-decoration-color: #00af00\">30</span>)                  │             <span style=\"color: #00af00; text-decoration-color: #00af00\">120</span> │\n",
       "│ (<span style=\"color: #0087ff; text-decoration-color: #0087ff\">BatchNormalization</span>)                 │                             │                 │\n",
       "├──────────────────────────────────────┼─────────────────────────────┼─────────────────┤\n",
       "│ activation_2 (<span style=\"color: #0087ff; text-decoration-color: #0087ff\">Activation</span>)            │ (<span style=\"color: #00d7ff; text-decoration-color: #00d7ff\">None</span>, <span style=\"color: #00af00; text-decoration-color: #00af00\">30</span>)                  │               <span style=\"color: #00af00; text-decoration-color: #00af00\">0</span> │\n",
       "├──────────────────────────────────────┼─────────────────────────────┼─────────────────┤\n",
       "│ dropout (<span style=\"color: #0087ff; text-decoration-color: #0087ff\">Dropout</span>)                    │ (<span style=\"color: #00d7ff; text-decoration-color: #00d7ff\">None</span>, <span style=\"color: #00af00; text-decoration-color: #00af00\">30</span>)                  │               <span style=\"color: #00af00; text-decoration-color: #00af00\">0</span> │\n",
       "├──────────────────────────────────────┼─────────────────────────────┼─────────────────┤\n",
       "│ dense (<span style=\"color: #0087ff; text-decoration-color: #0087ff\">Dense</span>)                        │ (<span style=\"color: #00d7ff; text-decoration-color: #00d7ff\">None</span>, <span style=\"color: #00af00; text-decoration-color: #00af00\">3</span>)                   │              <span style=\"color: #00af00; text-decoration-color: #00af00\">93</span> │\n",
       "└──────────────────────────────────────┴─────────────────────────────┴─────────────────┘\n",
       "</pre>\n"
      ],
      "text/plain": [
       "┏━━━━━━━━━━━━━━━━━━━━━━━━━━━━━━━━━━━━━━┳━━━━━━━━━━━━━━━━━━━━━━━━━━━━━┳━━━━━━━━━━━━━━━━━┓\n",
       "┃\u001b[1m \u001b[0m\u001b[1mLayer (type)                        \u001b[0m\u001b[1m \u001b[0m┃\u001b[1m \u001b[0m\u001b[1mOutput Shape               \u001b[0m\u001b[1m \u001b[0m┃\u001b[1m \u001b[0m\u001b[1m        Param #\u001b[0m\u001b[1m \u001b[0m┃\n",
       "┡━━━━━━━━━━━━━━━━━━━━━━━━━━━━━━━━━━━━━━╇━━━━━━━━━━━━━━━━━━━━━━━━━━━━━╇━━━━━━━━━━━━━━━━━┩\n",
       "│ lstm (\u001b[38;5;33mLSTM\u001b[0m)                          │ (\u001b[38;5;45mNone\u001b[0m, \u001b[38;5;34m20\u001b[0m, \u001b[38;5;34m16\u001b[0m)              │           \u001b[38;5;34m1,280\u001b[0m │\n",
       "├──────────────────────────────────────┼─────────────────────────────┼─────────────────┤\n",
       "│ lstm_1 (\u001b[38;5;33mLSTM\u001b[0m)                        │ (\u001b[38;5;45mNone\u001b[0m, \u001b[38;5;34m20\u001b[0m, \u001b[38;5;34m32\u001b[0m)              │           \u001b[38;5;34m6,272\u001b[0m │\n",
       "├──────────────────────────────────────┼─────────────────────────────┼─────────────────┤\n",
       "│ batch_normalization                  │ (\u001b[38;5;45mNone\u001b[0m, \u001b[38;5;34m20\u001b[0m, \u001b[38;5;34m32\u001b[0m)              │             \u001b[38;5;34m128\u001b[0m │\n",
       "│ (\u001b[38;5;33mBatchNormalization\u001b[0m)                 │                             │                 │\n",
       "├──────────────────────────────────────┼─────────────────────────────┼─────────────────┤\n",
       "│ activation (\u001b[38;5;33mActivation\u001b[0m)              │ (\u001b[38;5;45mNone\u001b[0m, \u001b[38;5;34m20\u001b[0m, \u001b[38;5;34m32\u001b[0m)              │               \u001b[38;5;34m0\u001b[0m │\n",
       "├──────────────────────────────────────┼─────────────────────────────┼─────────────────┤\n",
       "│ lstm_2 (\u001b[38;5;33mLSTM\u001b[0m)                        │ (\u001b[38;5;45mNone\u001b[0m, \u001b[38;5;34m20\u001b[0m, \u001b[38;5;34m64\u001b[0m)              │          \u001b[38;5;34m24,832\u001b[0m │\n",
       "├──────────────────────────────────────┼─────────────────────────────┼─────────────────┤\n",
       "│ batch_normalization_1                │ (\u001b[38;5;45mNone\u001b[0m, \u001b[38;5;34m20\u001b[0m, \u001b[38;5;34m64\u001b[0m)              │             \u001b[38;5;34m256\u001b[0m │\n",
       "│ (\u001b[38;5;33mBatchNormalization\u001b[0m)                 │                             │                 │\n",
       "├──────────────────────────────────────┼─────────────────────────────┼─────────────────┤\n",
       "│ activation_1 (\u001b[38;5;33mActivation\u001b[0m)            │ (\u001b[38;5;45mNone\u001b[0m, \u001b[38;5;34m20\u001b[0m, \u001b[38;5;34m64\u001b[0m)              │               \u001b[38;5;34m0\u001b[0m │\n",
       "├──────────────────────────────────────┼─────────────────────────────┼─────────────────┤\n",
       "│ lstm_3 (\u001b[38;5;33mLSTM\u001b[0m)                        │ (\u001b[38;5;45mNone\u001b[0m, \u001b[38;5;34m20\u001b[0m, \u001b[38;5;34m30\u001b[0m)              │          \u001b[38;5;34m11,400\u001b[0m │\n",
       "├──────────────────────────────────────┼─────────────────────────────┼─────────────────┤\n",
       "│ lstm_4 (\u001b[38;5;33mLSTM\u001b[0m)                        │ (\u001b[38;5;45mNone\u001b[0m, \u001b[38;5;34m30\u001b[0m)                  │           \u001b[38;5;34m7,320\u001b[0m │\n",
       "├──────────────────────────────────────┼─────────────────────────────┼─────────────────┤\n",
       "│ batch_normalization_2                │ (\u001b[38;5;45mNone\u001b[0m, \u001b[38;5;34m30\u001b[0m)                  │             \u001b[38;5;34m120\u001b[0m │\n",
       "│ (\u001b[38;5;33mBatchNormalization\u001b[0m)                 │                             │                 │\n",
       "├──────────────────────────────────────┼─────────────────────────────┼─────────────────┤\n",
       "│ activation_2 (\u001b[38;5;33mActivation\u001b[0m)            │ (\u001b[38;5;45mNone\u001b[0m, \u001b[38;5;34m30\u001b[0m)                  │               \u001b[38;5;34m0\u001b[0m │\n",
       "├──────────────────────────────────────┼─────────────────────────────┼─────────────────┤\n",
       "│ dropout (\u001b[38;5;33mDropout\u001b[0m)                    │ (\u001b[38;5;45mNone\u001b[0m, \u001b[38;5;34m30\u001b[0m)                  │               \u001b[38;5;34m0\u001b[0m │\n",
       "├──────────────────────────────────────┼─────────────────────────────┼─────────────────┤\n",
       "│ dense (\u001b[38;5;33mDense\u001b[0m)                        │ (\u001b[38;5;45mNone\u001b[0m, \u001b[38;5;34m3\u001b[0m)                   │              \u001b[38;5;34m93\u001b[0m │\n",
       "└──────────────────────────────────────┴─────────────────────────────┴─────────────────┘\n"
      ]
     },
     "metadata": {},
     "output_type": "display_data"
    },
    {
     "data": {
      "text/html": [
       "<pre style=\"white-space:pre;overflow-x:auto;line-height:normal;font-family:Menlo,'DejaVu Sans Mono',consolas,'Courier New',monospace\"><span style=\"font-weight: bold\"> Total params: </span><span style=\"color: #00af00; text-decoration-color: #00af00\">51,701</span> (201.96 KB)\n",
       "</pre>\n"
      ],
      "text/plain": [
       "\u001b[1m Total params: \u001b[0m\u001b[38;5;34m51,701\u001b[0m (201.96 KB)\n"
      ]
     },
     "metadata": {},
     "output_type": "display_data"
    },
    {
     "data": {
      "text/html": [
       "<pre style=\"white-space:pre;overflow-x:auto;line-height:normal;font-family:Menlo,'DejaVu Sans Mono',consolas,'Courier New',monospace\"><span style=\"font-weight: bold\"> Trainable params: </span><span style=\"color: #00af00; text-decoration-color: #00af00\">51,449</span> (200.97 KB)\n",
       "</pre>\n"
      ],
      "text/plain": [
       "\u001b[1m Trainable params: \u001b[0m\u001b[38;5;34m51,449\u001b[0m (200.97 KB)\n"
      ]
     },
     "metadata": {},
     "output_type": "display_data"
    },
    {
     "data": {
      "text/html": [
       "<pre style=\"white-space:pre;overflow-x:auto;line-height:normal;font-family:Menlo,'DejaVu Sans Mono',consolas,'Courier New',monospace\"><span style=\"font-weight: bold\"> Non-trainable params: </span><span style=\"color: #00af00; text-decoration-color: #00af00\">252</span> (1008.00 B)\n",
       "</pre>\n"
      ],
      "text/plain": [
       "\u001b[1m Non-trainable params: \u001b[0m\u001b[38;5;34m252\u001b[0m (1008.00 B)\n"
      ]
     },
     "metadata": {},
     "output_type": "display_data"
    }
   ],
   "source": [
    "model = keras.models.Sequential()\n",
    "# Need 3 dimensional shape\n",
    "model.add(layers.LSTM(16, return_sequences=True, input_shape=(20, 3)))\n",
    "model.add(layers.LSTM(32, return_sequences=True))\n",
    "#Add BN\n",
    "model.add(layers.BatchNormalization())\n",
    "model.add(layers.Activation('relu'))\n",
    "model.add(layers.LSTM(64, return_sequences=True))\n",
    "model.add(layers.BatchNormalization())\n",
    "model.add(layers.Activation('relu'))\n",
    "model.add(layers.LSTM(30, activation='relu', return_sequences=True))\n",
    "model.add(layers.LSTM(30)) #Return sequence false for final layer -> BS, units = final layer\n",
    "model.add(layers.BatchNormalization())\n",
    "model.add(layers.Activation('relu'))\n",
    "model.add(layers.Dropout(.2))\n",
    "model.add(layers.Dense(3, activation = \"softmax\", kernel_regularizer=regularizers.l2(0.001)))\n",
    "model.summary()"
   ]
  },
  {
   "cell_type": "code",
   "execution_count": 49,
   "id": "43eb842e-cd7e-45e1-9789-a2ff93e295fa",
   "metadata": {},
   "outputs": [],
   "source": [
    "lr = 0.0001\n",
    "batch_size = timestep"
   ]
  },
  {
   "cell_type": "code",
   "execution_count": 50,
   "id": "e82a65b8-c18d-4c58-9d14-aad417afc63a",
   "metadata": {},
   "outputs": [],
   "source": [
    "opt = tf.keras.optimizers.Adam(learning_rate= lr)"
   ]
  },
  {
   "cell_type": "code",
   "execution_count": 78,
   "id": "6ccccf5a-059e-4e9f-8344-27b0fccaaa2d",
   "metadata": {},
   "outputs": [],
   "source": [
    "early_stop = tf.keras.callbacks.EarlyStopping(monitor='val_accuracy', mode='max', patience=10, verbose=1)\n",
    "reduce_lr = ReduceLROnPlateau(monitor='val_loss', factor=0.5,\n",
    "                              patience=5#, min_lr = 0.0001\n",
    "                             )\n",
    "model_save = tf.keras.callbacks.ModelCheckpoint(filepath=f'model_LSTM.keras',\n",
    "                                                monitor='val_accuracy', save_best_only=True)"
   ]
  },
  {
   "cell_type": "code",
   "execution_count": 79,
   "id": "7b74d361-fca0-41ed-b6b0-b3ab99e39f52",
   "metadata": {},
   "outputs": [],
   "source": [
    "model.compile(optimizer=opt, loss='sparse_categorical_crossentropy', metrics=['accuracy'])"
   ]
  },
  {
   "cell_type": "code",
   "execution_count": null,
   "id": "c9855362-1dac-4402-bbe3-1ac0ef42c636",
   "metadata": {
    "scrolled": true
   },
   "outputs": [
    {
     "name": "stdout",
     "output_type": "stream",
     "text": [
      "Epoch 1/30\n",
      "\u001b[1m501/501\u001b[0m \u001b[32m━━━━━━━━━━━━━━━━━━━━\u001b[0m\u001b[37m\u001b[0m \u001b[1m28s\u001b[0m 42ms/step - accuracy: 0.8964 - loss: 0.2582 - val_accuracy: 0.9227 - val_loss: 0.1920 - learning_rate: 1.0000e-04\n",
      "Epoch 2/30\n",
      "\u001b[1m501/501\u001b[0m \u001b[32m━━━━━━━━━━━━━━━━━━━━\u001b[0m\u001b[37m\u001b[0m \u001b[1m51s\u001b[0m 61ms/step - accuracy: 0.8982 - loss: 0.2589 - val_accuracy: 0.9383 - val_loss: 0.1799 - learning_rate: 1.0000e-04\n",
      "Epoch 3/30\n",
      "\u001b[1m501/501\u001b[0m \u001b[32m━━━━━━━━━━━━━━━━━━━━\u001b[0m\u001b[37m\u001b[0m \u001b[1m34s\u001b[0m 47ms/step - accuracy: 0.8987 - loss: 0.2599 - val_accuracy: 0.9299 - val_loss: 0.1923 - learning_rate: 1.0000e-04\n",
      "Epoch 4/30\n",
      "\u001b[1m501/501\u001b[0m \u001b[32m━━━━━━━━━━━━━━━━━━━━\u001b[0m\u001b[37m\u001b[0m \u001b[1m28s\u001b[0m 56ms/step - accuracy: 0.9062 - loss: 0.2417 - val_accuracy: 0.9149 - val_loss: 0.2150 - learning_rate: 1.0000e-04\n",
      "Epoch 5/30\n",
      "\u001b[1m501/501\u001b[0m \u001b[32m━━━━━━━━━━━━━━━━━━━━\u001b[0m\u001b[37m\u001b[0m \u001b[1m39s\u001b[0m 53ms/step - accuracy: 0.9109 - loss: 0.2288 - val_accuracy: 0.9371 - val_loss: 0.1733 - learning_rate: 1.0000e-04\n",
      "Epoch 6/30\n",
      "\u001b[1m501/501\u001b[0m \u001b[32m━━━━━━━━━━━━━━━━━━━━\u001b[0m\u001b[37m\u001b[0m \u001b[1m26s\u001b[0m 52ms/step - accuracy: 0.9105 - loss: 0.2275 - val_accuracy: 0.9395 - val_loss: 0.1692 - learning_rate: 1.0000e-04\n",
      "Epoch 7/30\n",
      "\u001b[1m501/501\u001b[0m \u001b[32m━━━━━━━━━━━━━━━━━━━━\u001b[0m\u001b[37m\u001b[0m \u001b[1m46s\u001b[0m 63ms/step - accuracy: 0.9091 - loss: 0.2298 - val_accuracy: 0.9299 - val_loss: 0.1763 - learning_rate: 1.0000e-04\n",
      "Epoch 8/30\n",
      "\u001b[1m501/501\u001b[0m \u001b[32m━━━━━━━━━━━━━━━━━━━━\u001b[0m\u001b[37m\u001b[0m \u001b[1m40s\u001b[0m 60ms/step - accuracy: 0.9108 - loss: 0.2284 - val_accuracy: 0.9389 - val_loss: 0.1591 - learning_rate: 1.0000e-04\n",
      "Epoch 9/30\n",
      "\u001b[1m501/501\u001b[0m \u001b[32m━━━━━━━━━━━━━━━━━━━━\u001b[0m\u001b[37m\u001b[0m \u001b[1m33s\u001b[0m 44ms/step - accuracy: 0.9125 - loss: 0.2210 - val_accuracy: 0.9455 - val_loss: 0.1549 - learning_rate: 1.0000e-04\n",
      "Epoch 10/30\n",
      "\u001b[1m501/501\u001b[0m \u001b[32m━━━━━━━━━━━━━━━━━━━━\u001b[0m\u001b[37m\u001b[0m \u001b[1m28s\u001b[0m 56ms/step - accuracy: 0.9121 - loss: 0.2283 - val_accuracy: 0.9443 - val_loss: 0.1460 - learning_rate: 1.0000e-04\n",
      "Epoch 11/30\n",
      "\u001b[1m501/501\u001b[0m \u001b[32m━━━━━━━━━━━━━━━━━━━━\u001b[0m\u001b[37m\u001b[0m \u001b[1m30s\u001b[0m 60ms/step - accuracy: 0.9215 - loss: 0.2008 - val_accuracy: 0.9443 - val_loss: 0.1523 - learning_rate: 1.0000e-04\n",
      "Epoch 12/30\n",
      "\u001b[1m501/501\u001b[0m \u001b[32m━━━━━━━━━━━━━━━━━━━━\u001b[0m\u001b[37m\u001b[0m \u001b[1m42s\u001b[0m 61ms/step - accuracy: 0.9198 - loss: 0.2019 - val_accuracy: 0.9533 - val_loss: 0.1401 - learning_rate: 1.0000e-04\n",
      "Epoch 13/30\n",
      "\u001b[1m501/501\u001b[0m \u001b[32m━━━━━━━━━━━━━━━━━━━━\u001b[0m\u001b[37m\u001b[0m \u001b[1m40s\u001b[0m 60ms/step - accuracy: 0.9216 - loss: 0.2041 - val_accuracy: 0.9557 - val_loss: 0.1260 - learning_rate: 1.0000e-04\n",
      "Epoch 14/30\n",
      "\u001b[1m501/501\u001b[0m \u001b[32m━━━━━━━━━━━━━━━━━━━━\u001b[0m\u001b[37m\u001b[0m \u001b[1m30s\u001b[0m 60ms/step - accuracy: 0.9254 - loss: 0.1926 - val_accuracy: 0.9419 - val_loss: 0.1457 - learning_rate: 1.0000e-04\n",
      "Epoch 15/30\n",
      "\u001b[1m501/501\u001b[0m \u001b[32m━━━━━━━━━━━━━━━━━━━━\u001b[0m\u001b[37m\u001b[0m \u001b[1m47s\u001b[0m 72ms/step - accuracy: 0.9274 - loss: 0.1962 - val_accuracy: 0.9551 - val_loss: 0.1306 - learning_rate: 1.0000e-04\n",
      "Epoch 16/30\n",
      "\u001b[1m501/501\u001b[0m \u001b[32m━━━━━━━━━━━━━━━━━━━━\u001b[0m\u001b[37m\u001b[0m \u001b[1m33s\u001b[0m 66ms/step - accuracy: 0.9308 - loss: 0.1842 - val_accuracy: 0.9497 - val_loss: 0.1374 - learning_rate: 1.0000e-04\n",
      "Epoch 17/30\n",
      "\u001b[1m501/501\u001b[0m \u001b[32m━━━━━━━━━━━━━━━━━━━━\u001b[0m\u001b[37m\u001b[0m \u001b[1m28s\u001b[0m 55ms/step - accuracy: 0.9301 - loss: 0.1848 - val_accuracy: 0.9527 - val_loss: 0.1284 - learning_rate: 1.0000e-04\n",
      "Epoch 18/30\n",
      "\u001b[1m501/501\u001b[0m \u001b[32m━━━━━━━━━━━━━━━━━━━━\u001b[0m\u001b[37m\u001b[0m \u001b[1m43s\u001b[0m 59ms/step - accuracy: 0.9281 - loss: 0.1897 - val_accuracy: 0.9497 - val_loss: 0.1334 - learning_rate: 1.0000e-04\n",
      "Epoch 19/30\n",
      "\u001b[1m501/501\u001b[0m \u001b[32m━━━━━━━━━━━━━━━━━━━━\u001b[0m\u001b[37m\u001b[0m \u001b[1m26s\u001b[0m 52ms/step - accuracy: 0.9358 - loss: 0.1728 - val_accuracy: 0.9515 - val_loss: 0.1253 - learning_rate: 5.0000e-05\n",
      "Epoch 20/30\n",
      "\u001b[1m501/501\u001b[0m \u001b[32m━━━━━━━━━━━━━━━━━━━━\u001b[0m\u001b[37m\u001b[0m \u001b[1m31s\u001b[0m 61ms/step - accuracy: 0.9403 - loss: 0.1616 - val_accuracy: 0.9533 - val_loss: 0.1173 - learning_rate: 5.0000e-05\n",
      "Epoch 21/30\n",
      "\u001b[1m501/501\u001b[0m \u001b[32m━━━━━━━━━━━━━━━━━━━━\u001b[0m\u001b[37m\u001b[0m \u001b[1m32s\u001b[0m 63ms/step - accuracy: 0.9345 - loss: 0.1695 - val_accuracy: 0.9503 - val_loss: 0.1260 - learning_rate: 5.0000e-05\n",
      "Epoch 22/30\n",
      "\u001b[1m501/501\u001b[0m \u001b[32m━━━━━━━━━━━━━━━━━━━━\u001b[0m\u001b[37m\u001b[0m \u001b[1m32s\u001b[0m 63ms/step - accuracy: 0.9399 - loss: 0.1624 - val_accuracy: 0.9551 - val_loss: 0.1211 - learning_rate: 5.0000e-05\n",
      "Epoch 23/30\n",
      "\u001b[1m501/501\u001b[0m \u001b[32m━━━━━━━━━━━━━━━━━━━━\u001b[0m\u001b[37m\u001b[0m \u001b[1m26s\u001b[0m 52ms/step - accuracy: 0.9347 - loss: 0.1717 - val_accuracy: 0.9485 - val_loss: 0.1166 - learning_rate: 5.0000e-05\n",
      "Epoch 23: early stopping\n"
     ]
    }
   ],
   "source": [
    "history = model.fit(x_train_scaled, y_train, epochs = 30, batch_size = batch_size, callbacks=[early_stop, reduce_lr, model_save],\n",
    " validation_data=(x_test_scaled, y_test), verbose = 1, class_weight=class_weight_dict)"
   ]
  },
  {
   "cell_type": "markdown",
   "id": "e5d3c027-a173-48a2-a066-06b7ede7e4fe",
   "metadata": {},
   "source": [
    "# Plot training history"
   ]
  },
  {
   "cell_type": "code",
   "execution_count": 54,
   "id": "c449c78c-d30d-4537-ba26-ecd56b4cef18",
   "metadata": {},
   "outputs": [],
   "source": [
    "def plot_training_history(history):\n",
    "    \"\"\"\n",
    "    Create function to call accuracy and validation plots\n",
    "    \"\"\"\n",
    "    plt.rcParams[\"figure.figsize\"] = (10, 5)\n",
    "\n",
    "    # accuracy\n",
    "    plt.plot(history.history['accuracy'])\n",
    "    plt.plot(history.history['val_accuracy'])\n",
    "    plt.title('Model Accuracy')\n",
    "    plt.ylabel('Accuracy')\n",
    "    plt.xlabel('Epoch')\n",
    "    plt.legend(['train', 'val'], loc='lower right')\n",
    "    plt.show()\n",
    "\n",
    "    # loss\n",
    "    plt.plot(history.history['loss'])\n",
    "    plt.plot(history.history['val_loss'])\n",
    "    plt.title('Model Loss')\n",
    "    plt.ylabel('Loss')\n",
    "    plt.xlabel('Epoch')\n",
    "    plt.legend(['train', 'val'], loc='upper right')\n",
    "    plt.show()"
   ]
  },
  {
   "cell_type": "code",
   "execution_count": 55,
   "id": "2eb40d42-0038-456e-8d4d-1f25ed78ccbf",
   "metadata": {},
   "outputs": [
    {
     "data": {
      "image/png": "[encoded data removed]",
      "text/plain": [
       "<Figure size 1000x500 with 1 Axes>"
      ]
     },
     "metadata": {},
     "output_type": "display_data"
    },
    {
     "data": {
      "image/png": "[encoded data removed]",
      "text/plain": [
       "<Figure size 1000x500 with 1 Axes>"
      ]
     },
     "metadata": {},
     "output_type": "display_data"
    }
   ],
   "source": [
    "plot_training_history(history)"
   ]
  },
  {
   "cell_type": "markdown",
   "id": "dbcf185f-bfe2-4189-b4e9-594df2116e6c",
   "metadata": {},
   "source": [
    "# Metrics"
   ]
  },
  {
   "cell_type": "code",
   "execution_count": 56,
   "id": "ea286225-ea47-4463-937f-dd38e935635a",
   "metadata": {},
   "outputs": [
    {
     "name": "stdout",
     "output_type": "stream",
     "text": [
      "\u001b[1m53/53\u001b[0m \u001b[32m━━━━━━━━━━━━━━━━━━━━\u001b[0m\u001b[37m\u001b[0m \u001b[1m2s\u001b[0m 20ms/step\n"
     ]
    }
   ],
   "source": [
    "#Get predictions\n",
    "y_probs = model.predict(x_test_scaled)\n",
    "y_pred = np.argmax(y_probs, axis=1)"
   ]
  },
  {
   "cell_type": "code",
   "execution_count": 57,
   "id": "745eb1e4-3fbe-4dcb-8478-2cdc2bf9685a",
   "metadata": {},
   "outputs": [
    {
     "name": "stdout",
     "output_type": "stream",
     "text": [
      "0.9281006590772918\n"
     ]
    }
   ],
   "source": [
    "# Accuracy\n",
    "acc = accuracy_score(y_test, y_pred)\n",
    "print(acc)"
   ]
  },
  {
   "cell_type": "code",
   "execution_count": 58,
   "id": "2520de82-a653-48d8-8055-dfbceda55923",
   "metadata": {},
   "outputs": [
    {
     "name": "stdout",
     "output_type": "stream",
     "text": [
      "Precision: 0.9280454234229429 \n",
      "Recall: 0.9281006590772918 \n",
      "F1 Score: 0.9277694764281993\n"
     ]
    }
   ],
   "source": [
    "# Precision, Recall, F1\n",
    "precision = precision_score(y_test, y_pred, average='weighted')\n",
    "recall = recall_score(y_test, y_pred, average='weighted')\n",
    "f1 = f1_score(y_test, y_pred, average='weighted')\n",
    "print(f'Precision: {precision} \\nRecall: {recall} \\nF1 Score: {f1}')"
   ]
  },
  {
   "cell_type": "markdown",
   "id": "3939a2ff-da2f-42ba-93e6-12efb3fb7ea1",
   "metadata": {},
   "source": [
    "# AUC and ROC plot"
   ]
  },
  {
   "cell_type": "code",
   "execution_count": 65,
   "id": "5e2adab5-f270-4339-a60e-778fd2b630d1",
   "metadata": {},
   "outputs": [
    {
     "name": "stdout",
     "output_type": "stream",
     "text": [
      "0.988474040252601\n"
     ]
    }
   ],
   "source": [
    "# AUC - inherently binary - uses ovr\n",
    "roc_auc_value = roc_auc_score(y_test, y_probs, multi_class='ovr')\n",
    "print(auc)"
   ]
  },
  {
   "cell_type": "code",
   "execution_count": 63,
   "id": "73db0ab4-0f27-4ac3-992e-bf558fcafb03",
   "metadata": {},
   "outputs": [],
   "source": [
    "from sklearn.preprocessing import label_binarize #Needed since AUC is for binary - OvR"
   ]
  },
  {
   "cell_type": "code",
   "execution_count": 68,
   "id": "c3e5c651-114e-4280-adbd-84409fa128d3",
   "metadata": {},
   "outputs": [
    {
     "data": {
      "image/png": "[encoded data removed]",
      "text/plain": [
       "<Figure size 800x600 with 1 Axes>"
      ]
     },
     "metadata": {},
     "output_type": "display_data"
    }
   ],
   "source": [
    "n_classes = y_probs.shape[1]\n",
    "y_test_bin = label_binarize(y_test, classes=np.arange(n_classes))\n",
    "\n",
    "fpr = dict()\n",
    "tpr = dict()\n",
    "roc_auc = dict()\n",
    "\n",
    "for i in range(n_classes):\n",
    "    fpr[i], tpr[i], _ = roc_curve(y_test_bin[:, i], y_probs [:, i])\n",
    "    roc_auc[i] = auc(fpr[i], tpr[i])\n",
    "\n",
    "# Plot all ROC curves\n",
    "plt.figure(figsize=(8, 6))\n",
    "for i in range(n_classes):\n",
    "    label = f\"Class {i}\" \n",
    "    plt.plot(fpr[i], tpr[i], label=f\"{label} (AUC = {roc_auc[i]:.2f})\")\n",
    "\n",
    "plt.plot([0, 1], [0, 1], \"k--\")\n",
    "plt.xlim([0.0, 1.0])\n",
    "plt.ylim([0.0, 1.05])\n",
    "plt.xlabel(\"False Positive Rate\")\n",
    "plt.ylabel(\"True Positive Rate\")\n",
    "plt.title(\"ROC curve\")\n",
    "plt.legend(loc=\"lower right\")\n",
    "plt.grid(True)\n",
    "plt.show()"
   ]
  },
  {
   "cell_type": "code",
   "execution_count": 69,
   "id": "2513134b-2595-4d7b-b119-810d0d34ffd0",
   "metadata": {},
   "outputs": [
    {
     "name": "stdout",
     "output_type": "stream",
     "text": [
      "0.9710211175124949\n"
     ]
    }
   ],
   "source": [
    "# PR-AUC - Average precision\n",
    "pr_auc = average_precision_score(y_test, y_probs)\n",
    "print(pr_auc)"
   ]
  },
  {
   "cell_type": "code",
   "execution_count": 70,
   "id": "e4e7ea32-7ab4-4ecd-8d40-16bdfb8b9e80",
   "metadata": {},
   "outputs": [
    {
     "name": "stdout",
     "output_type": "stream",
     "text": [
      "0.8664811197802574\n"
     ]
    }
   ],
   "source": [
    "# Matthew's Correlation Coefficient\n",
    "mcc = matthews_corrcoef(y_test, y_pred)\n",
    "print(mcc)"
   ]
  },
  {
   "cell_type": "code",
   "execution_count": 71,
   "id": "52722f2c-e829-4455-a90a-64586e7ea042",
   "metadata": {},
   "outputs": [
    {
     "name": "stdout",
     "output_type": "stream",
     "text": [
      "0.9225459350692028\n"
     ]
    }
   ],
   "source": [
    "# Balanced Accuracy\n",
    "bal_acc = balanced_accuracy_score(y_test, y_pred)\n",
    "print(bal_acc)"
   ]
  },
  {
   "cell_type": "markdown",
   "id": "353a71b5-9b7a-4f86-991a-5d143af3e714",
   "metadata": {},
   "source": [
    "# Confusion Matrix"
   ]
  },
  {
   "cell_type": "code",
   "execution_count": 72,
   "id": "9834c117-088e-4fcc-8c35-95a584fd2fc2",
   "metadata": {},
   "outputs": [],
   "source": [
    "import matplotlib.pyplot as plt\n",
    "import numpy as np\n",
    "\n",
    "def plot_confusion(cm, title=\"Confusion Matrix\"):\n",
    "\n",
    "    plt.rcParams[\"figure.figsize\"] = (8, 6)\n",
    "    fig, ax = plt.subplots()\n",
    "    \n",
    "    cax = ax.matshow(cm, cmap='Wistia')\n",
    "    fig.colorbar(cax)\n",
    "\n",
    "    # Add text annotations inside each cell\n",
    "    for i in range(cm.shape[0]):\n",
    "        for j in range(cm.shape[1]):\n",
    "            ax.text(j, i, str(cm[i, j]), va='center', ha='center', color='white' if cm[i, j] > cm.max()/2 else 'black', fontsize=12, weight='bold')\n",
    "\n",
    "    class_names = [str(cls) for cls in np.unique(y_test)]\n",
    "        \n",
    "    ax.set_xticks(np.arange(len(class_names)))\n",
    "    ax.set_yticks(np.arange(len(class_names)))\n",
    "    ax.set_xticklabels(class_names, rotation=45)\n",
    "    ax.set_yticklabels(class_names)\n",
    "    \n",
    "    ax.set_xlabel('Predicted Label')\n",
    "    ax.set_ylabel('True Label')\n",
    "    ax.set_title(title)\n",
    "    plt.tight_layout()\n",
    "    plt.show()\n"
   ]
  },
  {
   "cell_type": "code",
   "execution_count": 73,
   "id": "9b60fd73-f9f8-4ae7-8185-153776fd40c2",
   "metadata": {},
   "outputs": [
    {
     "data": {
      "image/png": "[encoded data removed]",
      "text/plain": [
       "<Figure size 800x600 with 2 Axes>"
      ]
     },
     "metadata": {},
     "output_type": "display_data"
    }
   ],
   "source": [
    "cm = confusion_matrix(y_test, y_pred)\n",
    "\n",
    "plot_confusion(cm)"
   ]
  },
  {
   "cell_type": "code",
   "execution_count": 74,
   "id": "397072ca-c36d-446e-addc-74c82651c9de",
   "metadata": {},
   "outputs": [
    {
     "data": {
      "image/png": "[encoded data removed]",
      "text/plain": [
       "<Figure size 800x600 with 2 Axes>"
      ]
     },
     "metadata": {},
     "output_type": "display_data"
    }
   ],
   "source": [
    "from sklearn.metrics import ConfusionMatrixDisplay\n",
    "cm = confusion_matrix(y_test, y_pred)\n",
    "disp = ConfusionMatrixDisplay(confusion_matrix=cm,\n",
    "                            )\n",
    "disp.plot()\n",
    "\n",
    "plt.show()"
   ]
  },
  {
   "cell_type": "markdown",
   "id": "ba786b5f-d707-4408-92c3-f8824b81bb57",
   "metadata": {},
   "source": [
    "# True Negative Rate"
   ]
  },
  {
   "cell_type": "code",
   "execution_count": 75,
   "id": "0bb3b7af-2c7a-4196-80bd-5c8fd5f965b8",
   "metadata": {},
   "outputs": [],
   "source": [
    "true_neg = []\n",
    "for i in range(3):\n",
    "    # One-v-Rest: class i is positive, all others negative\n",
    "    tp = cm[i, i]\n",
    "    fn = np.sum(cm[i, :]) - tp\n",
    "    fp = np.sum(cm[:, i]) - tp\n",
    "    tn = np.sum(cm) - (tp + fp + fn)\n",
    "\n",
    "    tnr = tn / (tn + fp) if (tn + fp) > 0 else 0.0\n",
    "    true_neg.append(tnr)"
   ]
  },
  {
   "cell_type": "code",
   "execution_count": 76,
   "id": "60c362eb-cd3a-4efc-8b52-e58e50f85ff7",
   "metadata": {},
   "outputs": [
    {
     "name": "stdout",
     "output_type": "stream",
     "text": [
      "Class 0: True Negative Rate: 0.9051\n",
      "Class 1: True Negative Rate: 0.9581\n",
      "Class 2: True Negative Rate: 0.9955\n"
     ]
    }
   ],
   "source": [
    "labels = np.unique(y_test)\n",
    "for label, rate in zip(labels, true_neg):\n",
    "    print(f\"Class {label}: True Negative Rate: {rate:.4f}\")"
   ]
  },
  {
   "cell_type": "markdown",
   "id": "1425bba1-e84b-4450-ae3d-34813dbcdcf1",
   "metadata": {},
   "source": [
    "# Testing"
   ]
  },
  {
   "cell_type": "code",
   "execution_count": 77,
   "id": "ee09c161-9b76-4286-a1d9-4d4609c1678d",
   "metadata": {},
   "outputs": [
    {
     "name": "stdout",
     "output_type": "stream",
     "text": [
      "\u001b[1m53/53\u001b[0m \u001b[32m━━━━━━━━━━━━━━━━━━━━\u001b[0m\u001b[37m\u001b[0m \u001b[1m1s\u001b[0m 14ms/step - accuracy: 0.9241 - loss: 0.1995\n",
      "GRU Model Test Accuracy: 0.9281 \n",
      "Loss: 0.1957\n"
     ]
    }
   ],
   "source": [
    "loss, accuracy = model.evaluate(x_test_scaled, y_test)\n",
    "print(f\"GRU Model Test Accuracy: {accuracy:.4f} \\nLoss: {loss:.4f}\")"
   ]
  },
  {
   "cell_type": "markdown",
   "id": "395c9080-2fe6-4b6c-a586-5154465de393",
   "metadata": {},
   "source": [
    "# Load and Test Script"
   ]
  },
  {
   "cell_type": "code",
   "execution_count": null,
   "id": "efd204e3-47f5-4c7c-8ab5-3a518cbc69a4",
   "metadata": {},
   "outputs": [],
   "source": [
    "df_test = pd.read_csv('path/to/file.csv', header=None)"
   ]
  },
  {
   "cell_type": "code",
   "execution_count": null,
   "id": "39ae0eb5-b688-494d-8e12-b61247adc9b9",
   "metadata": {},
   "outputs": [],
   "source": [
    "df_test.drop(df_test.columns[0], axis=1, inplace=True)"
   ]
  },
  {
   "cell_type": "code",
   "execution_count": null,
   "id": "0b35c016-f240-4cfe-a869-d26a92da5284",
   "metadata": {},
   "outputs": [],
   "source": [
    "df_test = df[df[4] != '#']"
   ]
  },
  {
   "cell_type": "code",
   "execution_count": null,
   "id": "345f2504-b777-46bd-8410-39252ccaff88",
   "metadata": {},
   "outputs": [],
   "source": [
    "df_test = df.reset_index(drop=True)"
   ]
  },
  {
   "cell_type": "code",
   "execution_count": null,
   "id": "a70dabc3-d090-44dc-8d9d-230417897530",
   "metadata": {},
   "outputs": [],
   "source": [
    "x_test_set = df_test.drop([4], axis = 1)\n",
    "y_test_set = df_test[4]"
   ]
  },
  {
   "cell_type": "code",
   "execution_count": null,
   "id": "7ccbb3c6-cdc1-4e4c-9766-60675a5796b6",
   "metadata": {},
   "outputs": [],
   "source": [
    "x_test_set = scaler.transform(x_test_set)"
   ]
  },
  {
   "cell_type": "code",
   "execution_count": null,
   "id": "64a1bfd8-00bc-4cb3-b883-28af439be651",
   "metadata": {},
   "outputs": [],
   "source": [
    "def create_timestep(x, y, timestep=timestep):\n",
    "    x_step = []\n",
    "    y_step = []\n",
    "    for i in range(len(x) - timestep):\n",
    "        x_step.append(x[i:i+timestep])\n",
    "        y_step.append(y[i+timestep])\n",
    "    return np.array(x_step), np.array(y_step)"
   ]
  },
  {
   "cell_type": "code",
   "execution_count": null,
   "id": "de084c1b-f0bb-45ff-94fd-903eb3575362",
   "metadata": {},
   "outputs": [],
   "source": [
    "x_step_test, y_step_test = create_timestep(x_test_set, y_test_set)"
   ]
  },
  {
   "cell_type": "code",
   "execution_count": null,
   "id": "f3b0dc9e-36cc-41d6-aa6c-82053e77f42c",
   "metadata": {},
   "outputs": [],
   "source": [
    "checkpoint_path = \"model_LSTM.keras\""
   ]
  },
  {
   "cell_type": "code",
   "execution_count": null,
   "id": "bdf40980-fa38-4eba-8543-2e89d3bf8285",
   "metadata": {},
   "outputs": [],
   "source": [
    "model = tf.keras.models.load_model(checkpoint_path)"
   ]
  },
  {
   "cell_type": "code",
   "execution_count": null,
   "id": "91ea818c-16eb-4e41-9add-9a0f7b9cf4c0",
   "metadata": {},
   "outputs": [],
   "source": [
    "loss, acc = model.evaluate(x_step_test, y_step_test, verbose=2)\n",
    "print(\"Restored model, accuracy: {:5.2f}%\".format(100 * acc))"
   ]
  },
  {
   "cell_type": "code",
   "execution_count": null,
   "id": "39cd2cf9-9ff4-4a8b-a173-7ea4fd2ff0a6",
   "metadata": {},
   "outputs": [],
   "source": [
    "y_probs = model.predict(x_step_test)\n",
    "y_pred = np.argmax(y_probs, axis=1)"
   ]
  },
  {
   "cell_type": "code",
   "execution_count": null,
   "id": "72ee0d9c-29bb-4fa1-9910-8966af2afda4",
   "metadata": {},
   "outputs": [],
   "source": [
    "output = pd.DataFrame({'Predicted': y_pred})\n",
    "output.to_csv(\"test_predictions.csv\", index=False)\n",
    "print(\"Predictions saved to test_predictions.csv\")"
   ]
  }
 ],
 "metadata": {
  "kernelspec": {
   "display_name": "Python 3 (ipykernel)",
   "language": "python",
   "name": "python3"
  },
  "language_info": {
   "codemirror_mode": {
    "name": "ipython",
    "version": 3
   },
   "file_extension": ".py",
   "mimetype": "text/x-python",
   "name": "python",
   "nbconvert_exporter": "python",
   "pygments_lexer": "ipython3",
   "version": "3.11.5"
  }
 },
 "nbformat": 4,
 "nbformat_minor": 5
}
